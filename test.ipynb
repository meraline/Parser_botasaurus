{
 "cells": [
  {
   "cell_type": "code",
   "execution_count": 2,
   "id": "3052b9df",
   "metadata": {},
   "outputs": [
    {
     "name": "stdout",
     "output_type": "stream",
     "text": [
      "Requirement already satisfied: botasaurus in /home/analityk/anaconda3/lib/python3.12/site-packages (4.0.88)\n",
      "Requirement already satisfied: psutil in /home/analityk/.local/lib/python3.12/site-packages (from botasaurus) (7.0.0)\n",
      "Requirement already satisfied: javascript-fixes in /home/analityk/anaconda3/lib/python3.12/site-packages (from botasaurus) (1.1.29)\n",
      "Requirement already satisfied: requests in /home/analityk/anaconda3/lib/python3.12/site-packages (from botasaurus) (2.31.0)\n",
      "Requirement already satisfied: joblib>=1.3.2 in /home/analityk/anaconda3/lib/python3.12/site-packages (from botasaurus) (1.4.2)\n",
      "Requirement already satisfied: beautifulsoup4>=4.11.2 in /home/analityk/anaconda3/lib/python3.12/site-packages (from botasaurus) (4.13.4)\n",
      "Requirement already satisfied: lxml>=5.2.2 in /home/analityk/anaconda3/lib/python3.12/site-packages (from botasaurus) (5.3.2)\n",
      "Requirement already satisfied: openpyxl in /home/analityk/anaconda3/lib/python3.12/site-packages (from botasaurus) (3.1.2)\n",
      "Requirement already satisfied: close-chrome in /home/analityk/anaconda3/lib/python3.12/site-packages (from botasaurus) (4.0.40)\n",
      "Requirement already satisfied: botasaurus-humancursor in /home/analityk/anaconda3/lib/python3.12/site-packages (from botasaurus) (4.0.83)\n",
      "Requirement already satisfied: botasaurus-api in /home/analityk/anaconda3/lib/python3.12/site-packages (from botasaurus) (4.0.10)\n",
      "Requirement already satisfied: botasaurus-driver in /home/analityk/anaconda3/lib/python3.12/site-packages (from botasaurus) (4.0.91)\n",
      "Requirement already satisfied: bota in /home/analityk/anaconda3/lib/python3.12/site-packages (from botasaurus) (4.0.154)\n",
      "Requirement already satisfied: botasaurus-proxy-authentication in /home/analityk/anaconda3/lib/python3.12/site-packages (from botasaurus) (1.0.16)\n",
      "Requirement already satisfied: botasaurus-requests in /home/analityk/anaconda3/lib/python3.12/site-packages (from botasaurus) (4.0.38)\n",
      "Requirement already satisfied: soupsieve>1.2 in /home/analityk/anaconda3/lib/python3.12/site-packages (from beautifulsoup4>=4.11.2->botasaurus) (2.5)\n",
      "Requirement already satisfied: typing-extensions>=4.0.0 in /home/analityk/anaconda3/lib/python3.12/site-packages (from beautifulsoup4>=4.11.2->botasaurus) (4.13.2)\n",
      "Requirement already satisfied: click in /home/analityk/anaconda3/lib/python3.12/site-packages (from bota->botasaurus) (8.1.7)\n",
      "Requirement already satisfied: deprecated in /home/analityk/anaconda3/lib/python3.12/site-packages (from botasaurus-driver->botasaurus) (1.2.13)\n",
      "Requirement already satisfied: websocket-client>=1.8.0 in /home/analityk/anaconda3/lib/python3.12/site-packages (from botasaurus-driver->botasaurus) (1.8.0)\n",
      "Requirement already satisfied: pyvirtualdisplay in /home/analityk/anaconda3/lib/python3.12/site-packages (from botasaurus-driver->botasaurus) (3.0)\n",
      "Requirement already satisfied: numpy in /home/analityk/anaconda3/lib/python3.12/site-packages (from botasaurus-humancursor->botasaurus) (1.26.0)\n",
      "Requirement already satisfied: pytweening in /home/analityk/anaconda3/lib/python3.12/site-packages (from botasaurus-humancursor->botasaurus) (1.2.0)\n",
      "Requirement already satisfied: httpx in /home/analityk/anaconda3/lib/python3.12/site-packages (from botasaurus-requests->botasaurus) (0.28.1)\n",
      "Requirement already satisfied: geventhttpclient in /home/analityk/anaconda3/lib/python3.12/site-packages (from botasaurus-requests->botasaurus) (2.3.4)\n",
      "Requirement already satisfied: urllib3 in /home/analityk/anaconda3/lib/python3.12/site-packages (from botasaurus-requests->botasaurus) (2.2.3)\n",
      "Requirement already satisfied: rich in /home/analityk/anaconda3/lib/python3.12/site-packages (from botasaurus-requests->botasaurus) (13.3.5)\n",
      "Requirement already satisfied: gevent in /home/analityk/anaconda3/lib/python3.12/site-packages (from botasaurus-requests->botasaurus) (25.5.1)\n",
      "Requirement already satisfied: wrapt<2,>=1.10 in /home/analityk/anaconda3/lib/python3.12/site-packages (from deprecated->botasaurus-driver->botasaurus) (1.14.1)\n",
      "Requirement already satisfied: greenlet>=3.2.2 in /home/analityk/anaconda3/lib/python3.12/site-packages (from gevent->botasaurus-requests->botasaurus) (3.2.4)\n",
      "Requirement already satisfied: zope.event in /home/analityk/anaconda3/lib/python3.12/site-packages (from gevent->botasaurus-requests->botasaurus) (5.1.1)\n",
      "Requirement already satisfied: zope.interface in /home/analityk/anaconda3/lib/python3.12/site-packages (from gevent->botasaurus-requests->botasaurus) (5.4.0)\n",
      "Requirement already satisfied: certifi in /home/analityk/anaconda3/lib/python3.12/site-packages (from geventhttpclient->botasaurus-requests->botasaurus) (2025.8.3)\n",
      "Requirement already satisfied: brotli in /home/analityk/anaconda3/lib/python3.12/site-packages (from geventhttpclient->botasaurus-requests->botasaurus) (1.0.9)\n",
      "Requirement already satisfied: anyio in /home/analityk/anaconda3/lib/python3.12/site-packages (from httpx->botasaurus-requests->botasaurus) (4.2.0)\n",
      "Requirement already satisfied: httpcore==1.* in /home/analityk/anaconda3/lib/python3.12/site-packages (from httpx->botasaurus-requests->botasaurus) (1.0.7)\n",
      "Requirement already satisfied: idna in /home/analityk/anaconda3/lib/python3.12/site-packages (from httpx->botasaurus-requests->botasaurus) (3.7)\n",
      "Requirement already satisfied: h11<0.15,>=0.13 in /home/analityk/anaconda3/lib/python3.12/site-packages (from httpcore==1.*->httpx->botasaurus-requests->botasaurus) (0.14.0)\n",
      "Requirement already satisfied: sniffio>=1.1 in /home/analityk/anaconda3/lib/python3.12/site-packages (from anyio->httpx->botasaurus-requests->botasaurus) (1.3.0)\n",
      "Requirement already satisfied: et-xmlfile in /home/analityk/anaconda3/lib/python3.12/site-packages (from openpyxl->botasaurus) (1.1.0)\n",
      "Requirement already satisfied: charset-normalizer<4,>=2 in /home/analityk/anaconda3/lib/python3.12/site-packages (from requests->botasaurus) (3.4.0)\n",
      "Requirement already satisfied: markdown-it-py<3.0.0,>=2.2.0 in /home/analityk/anaconda3/lib/python3.12/site-packages (from rich->botasaurus-requests->botasaurus) (2.2.0)\n",
      "Requirement already satisfied: pygments<3.0.0,>=2.13.0 in /home/analityk/.local/lib/python3.12/site-packages (from rich->botasaurus-requests->botasaurus) (2.19.1)\n",
      "Requirement already satisfied: mdurl~=0.1 in /home/analityk/anaconda3/lib/python3.12/site-packages (from markdown-it-py<3.0.0,>=2.2.0->rich->botasaurus-requests->botasaurus) (0.1.0)\n",
      "Requirement already satisfied: setuptools>=75.8.2 in /home/analityk/anaconda3/lib/python3.12/site-packages (from zope.event->gevent->botasaurus-requests->botasaurus) (80.9.0)\n"
     ]
    }
   ],
   "source": [
    "!python -m pip install --upgrade botasaurus\n"
   ]
  },
  {
   "cell_type": "code",
   "execution_count": 3,
   "id": "4c6f5a1f",
   "metadata": {},
   "outputs": [
    {
     "ename": "ModuleNotFoundError",
     "evalue": "No module named 'botasaurus'",
     "output_type": "error",
     "traceback": [
      "\u001b[31m---------------------------------------------------------------------------\u001b[39m",
      "\u001b[31mModuleNotFoundError\u001b[39m                       Traceback (most recent call last)",
      "\u001b[36mCell\u001b[39m\u001b[36m \u001b[39m\u001b[32mIn[3]\u001b[39m\u001b[32m, line 2\u001b[39m\n\u001b[32m      1\u001b[39m \u001b[38;5;28;01mimport\u001b[39;00m\u001b[38;5;250m \u001b[39m\u001b[34;01mjson\u001b[39;00m\n\u001b[32m----> \u001b[39m\u001b[32m2\u001b[39m \u001b[38;5;28;01mfrom\u001b[39;00m\u001b[38;5;250m \u001b[39m\u001b[34;01mvin_parser\u001b[39;00m\u001b[38;5;250m \u001b[39m\u001b[38;5;28;01mimport\u001b[39;00m parse_gibdd_response, search_reviews_enhanced, search_board_journals\n\u001b[32m      4\u001b[39m data = json.load(\u001b[38;5;28mopen\u001b[39m(\u001b[33m\"\u001b[39m\u001b[33mgibdd_response.json\u001b[39m\u001b[33m\"\u001b[39m))          \u001b[38;5;66;03m# ваш JSON\u001b[39;00m\n\u001b[32m      5\u001b[39m vehicle_info = parse_gibdd_response(data[\u001b[33m\"\u001b[39m\u001b[33mresponse\u001b[39m\u001b[33m\"\u001b[39m])   \u001b[38;5;66;03m# VehicleInfo\u001b[39;00m\n",
      "\u001b[36mFile \u001b[39m\u001b[32m~/Документы/projects/Parser_botasaurus/vin_parser.py:6\u001b[39m\n\u001b[32m      1\u001b[39m \u001b[33;03m\"\"\"\u001b[39;00m\n\u001b[32m      2\u001b[39m \u001b[33;03mVIN-парсер с API ГИБДД и автоматическим поиском отзывов\u001b[39;00m\n\u001b[32m      3\u001b[39m \u001b[33;03mПолучает официальные данные из ГИБДД и собирает отзывы по модели\u001b[39;00m\n\u001b[32m      4\u001b[39m \u001b[33;03m\"\"\"\u001b[39;00m\n\u001b[32m----> \u001b[39m\u001b[32m6\u001b[39m \u001b[38;5;28;01mfrom\u001b[39;00m\u001b[38;5;250m \u001b[39m\u001b[34;01mbotasaurus\u001b[39;00m\u001b[34;01m.\u001b[39;00m\u001b[34;01mbrowser\u001b[39;00m\u001b[38;5;250m \u001b[39m\u001b[38;5;28;01mimport\u001b[39;00m browser, Driver\n\u001b[32m      7\u001b[39m \u001b[38;5;28;01mfrom\u001b[39;00m\u001b[38;5;250m \u001b[39m\u001b[34;01mbotasaurus\u001b[39;00m\u001b[34;01m.\u001b[39;00m\u001b[34;01mrequest\u001b[39;00m\u001b[38;5;250m \u001b[39m\u001b[38;5;28;01mimport\u001b[39;00m request, Request\n\u001b[32m      8\u001b[39m \u001b[38;5;28;01mfrom\u001b[39;00m\u001b[38;5;250m \u001b[39m\u001b[34;01mbotasaurus\u001b[39;00m\u001b[34;01m.\u001b[39;00m\u001b[34;01msoupify\u001b[39;00m\u001b[38;5;250m \u001b[39m\u001b[38;5;28;01mimport\u001b[39;00m soupify\n",
      "\u001b[31mModuleNotFoundError\u001b[39m: No module named 'botasaurus'"
     ]
    }
   ],
   "source": [
    "import json\n",
    "from vin_parser import parse_gibdd_response, search_reviews_enhanced, search_board_journals\n",
    "\n",
    "data = json.load(open(\"gibdd_response.json\"))          # ваш JSON\n",
    "vehicle_info = parse_gibdd_response(data[\"response\"])   # VehicleInfo\n",
    "reviews = search_reviews_enhanced({\"vehicle_info\": vehicle_info, \"max_reviews\": 20})\n",
    "journals = search_board_journals({\"vehicle_info\": vehicle_info, \"max_entries\": 20})\n"
   ]
  }
 ],
 "metadata": {
  "kernelspec": {
   "display_name": "Python 3",
   "language": "python",
   "name": "python3"
  },
  "language_info": {
   "codemirror_mode": {
    "name": "ipython",
    "version": 3
   },
   "file_extension": ".py",
   "mimetype": "text/x-python",
   "name": "python",
   "nbconvert_exporter": "python",
   "pygments_lexer": "ipython3",
   "version": "3.12.3"
  }
 },
 "nbformat": 4,
 "nbformat_minor": 5
}
